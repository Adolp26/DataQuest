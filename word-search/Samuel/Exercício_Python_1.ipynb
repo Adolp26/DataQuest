{
  "nbformat": 4,
  "nbformat_minor": 0,
  "metadata": {
    "colab": {
      "provenance": []
    },
    "kernelspec": {
      "name": "python3",
      "display_name": "Python 3"
    },
    "language_info": {
      "name": "python"
    }
  },
  "cells": [
    {
      "cell_type": "markdown",
      "source": [
        "**Exercício 1 - Aquecimento de Python para Ciência de Dados**"
      ],
      "metadata": {
        "id": "f6oYv9LEcR8T"
      }
    },
    {
      "cell_type": "markdown",
      "source": [
        "1. Imprima \"Hello, World!\" no console."
      ],
      "metadata": {
        "id": "v4GVV_w1cYEY"
      }
    },
    {
      "cell_type": "code",
      "execution_count": null,
      "metadata": {
        "id": "dJ12k9hPcNAg",
        "colab": {
          "base_uri": "https://localhost:8080/"
        },
        "outputId": "a471bd2b-fba6-4cae-aff9-c1747607d1b8"
      },
      "outputs": [
        {
          "output_type": "stream",
          "name": "stdout",
          "text": [
            "Hellow, World\n"
          ]
        }
      ],
      "source": [
        "print(\"Hellow, World\")"
      ]
    },
    {
      "cell_type": "markdown",
      "source": [
        "2. Crie uma variável x com valor 10 e imprima seu valor."
      ],
      "metadata": {
        "id": "ADK7MX25ciYu"
      }
    },
    {
      "cell_type": "code",
      "source": [
        "x = 10\n",
        "print(x)"
      ],
      "metadata": {
        "id": "kk5h1v7ocqel",
        "colab": {
          "base_uri": "https://localhost:8080/"
        },
        "outputId": "cad6532c-b702-469a-f5e8-a147e6cbe2f5"
      },
      "execution_count": null,
      "outputs": [
        {
          "output_type": "stream",
          "name": "stdout",
          "text": [
            "10\n"
          ]
        }
      ]
    },
    {
      "cell_type": "markdown",
      "source": [
        "3. Some dois números e exiba o resultado."
      ],
      "metadata": {
        "id": "bKry1Lukcq6l"
      }
    },
    {
      "cell_type": "code",
      "source": [
        "a = 2\n",
        "b = 3\n",
        "c = a + b\n",
        "print(c)"
      ],
      "metadata": {
        "id": "S6IyQT4Lc2vf",
        "colab": {
          "base_uri": "https://localhost:8080/"
        },
        "outputId": "a7c518a7-3b16-4885-bfba-834906695600"
      },
      "execution_count": null,
      "outputs": [
        {
          "output_type": "stream",
          "name": "stdout",
          "text": [
            "5\n"
          ]
        }
      ]
    },
    {
      "cell_type": "markdown",
      "source": [
        "4. Verifique se um número é par ou ímpar.\n"
      ],
      "metadata": {
        "id": "6BG1PN9Qc3VA"
      }
    },
    {
      "cell_type": "code",
      "source": [
        "num = int(input(\"Digite um número: \"))\n",
        "if num % 2 == 0:\n",
        "    print(\"O número é par.\")\n",
        "else:\n",
        "    print(\"O número é impar\")"
      ],
      "metadata": {
        "id": "K6NLPZoRc7ov",
        "colab": {
          "base_uri": "https://localhost:8080/"
        },
        "outputId": "5bc7b22e-e802-4269-a201-0d7a7056e833"
      },
      "execution_count": null,
      "outputs": [
        {
          "output_type": "stream",
          "name": "stdout",
          "text": [
            "Digite um número: 2\n",
            "O número é par.\n"
          ]
        }
      ]
    },
    {
      "cell_type": "markdown",
      "source": [
        "5. Crie uma função que receba dois números e retorne a soma deles."
      ],
      "metadata": {
        "id": "5dKg-xpvc4xs"
      }
    },
    {
      "cell_type": "code",
      "source": [
        "def soma(a,b):\n",
        "    return a + b\n",
        "\n",
        "teste = soma(2,3)\n",
        "print(teste)"
      ],
      "metadata": {
        "id": "iv1-9Zytc4S3",
        "colab": {
          "base_uri": "https://localhost:8080/"
        },
        "outputId": "e4ef5b38-26aa-4bb5-b55f-08dfd27d0e0f"
      },
      "execution_count": null,
      "outputs": [
        {
          "output_type": "stream",
          "name": "stdout",
          "text": [
            "5\n"
          ]
        }
      ]
    },
    {
      "cell_type": "markdown",
      "source": [
        "6. Crie uma lista com os números de 1 a 5 e imprima-a.\n"
      ],
      "metadata": {
        "id": "zsdBZtyjc_62"
      }
    },
    {
      "cell_type": "code",
      "source": [
        "lista = [1,2,3,4,5]\n",
        "print(lista)"
      ],
      "metadata": {
        "id": "xGgkwH7jdCh-",
        "colab": {
          "base_uri": "https://localhost:8080/"
        },
        "outputId": "ec89450f-a177-4a52-e0f3-d2d9f79cc692"
      },
      "execution_count": null,
      "outputs": [
        {
          "output_type": "stream",
          "name": "stdout",
          "text": [
            "[1, 2, 3, 4, 5]\n"
          ]
        }
      ]
    },
    {
      "cell_type": "markdown",
      "source": [
        "7. Adicione o número 6 à lista criada na questão anterior.\n"
      ],
      "metadata": {
        "id": "snUAe4qddFsm"
      }
    },
    {
      "cell_type": "code",
      "source": [
        "lista.append(6)\n",
        "print(lista)"
      ],
      "metadata": {
        "id": "QVpSgy7FdGk9",
        "colab": {
          "base_uri": "https://localhost:8080/"
        },
        "outputId": "03903cf1-b307-4018-ca26-3d9deb281b52"
      },
      "execution_count": null,
      "outputs": [
        {
          "output_type": "stream",
          "name": "stdout",
          "text": [
            "[1, 2, 3, 4, 5, 6, 6]\n"
          ]
        }
      ]
    },
    {
      "cell_type": "markdown",
      "source": [
        "8. Remova o número 3 da lista."
      ],
      "metadata": {
        "id": "4HT4BfD1dI8f"
      }
    },
    {
      "cell_type": "code",
      "source": [
        "lista.remove(3)\n",
        "print(lista)"
      ],
      "metadata": {
        "id": "QCCxAurPdKjB",
        "colab": {
          "base_uri": "https://localhost:8080/"
        },
        "outputId": "d385ed28-2a19-46f8-927f-dabed6531c81"
      },
      "execution_count": null,
      "outputs": [
        {
          "output_type": "stream",
          "name": "stdout",
          "text": [
            "[1, 2, 4, 5, 6]\n"
          ]
        }
      ]
    },
    {
      "cell_type": "markdown",
      "source": [
        "9. Acesse o terceiro elemento da lista."
      ],
      "metadata": {
        "id": "RyI_EEltdMZt"
      }
    },
    {
      "cell_type": "code",
      "source": [
        "print(lista[2])"
      ],
      "metadata": {
        "id": "HIkSUt_EdOSD",
        "colab": {
          "base_uri": "https://localhost:8080/"
        },
        "outputId": "da82ead4-8c60-4ae5-ecc1-02476c2ec0fe"
      },
      "execution_count": null,
      "outputs": [
        {
          "output_type": "stream",
          "name": "stdout",
          "text": [
            "4\n"
          ]
        }
      ]
    },
    {
      "cell_type": "markdown",
      "source": [
        "10. Imprima o tamanho da lista."
      ],
      "metadata": {
        "id": "yQjJYNSsdQUI"
      }
    },
    {
      "cell_type": "code",
      "source": [
        "len(lista)"
      ],
      "metadata": {
        "id": "Nz1jOedbdTR-",
        "colab": {
          "base_uri": "https://localhost:8080/"
        },
        "outputId": "9d0914be-c07c-44c2-e518-5fb774c427a3"
      },
      "execution_count": null,
      "outputs": [
        {
          "output_type": "execute_result",
          "data": {
            "text/plain": [
              "5"
            ]
          },
          "metadata": {},
          "execution_count": 27
        }
      ]
    },
    {
      "cell_type": "markdown",
      "source": [
        "11. Crie um dicionário com informações de um carro (marca, modelo, ano)."
      ],
      "metadata": {
        "id": "2gm3RaRKdyCg"
      }
    },
    {
      "cell_type": "code",
      "source": [
        "carro = {\n",
        "    'marca': 'Fiat',\n",
        "    'modelo': 'Fastback',\n",
        "    'ano': 2024\n",
        "}\n",
        "print(carro)\n"
      ],
      "metadata": {
        "id": "gL_Svemid1kG",
        "colab": {
          "base_uri": "https://localhost:8080/"
        },
        "outputId": "68e606ac-a66b-4c27-9587-2d04c4883a2f"
      },
      "execution_count": null,
      "outputs": [
        {
          "output_type": "stream",
          "name": "stdout",
          "text": [
            "{'marca': 'Fiat', 'modelo': 'Fastback', 'ano': 2024}\n"
          ]
        }
      ]
    },
    {
      "cell_type": "markdown",
      "source": [
        "12. Acesse o valor associado à chave \"marca\" no dicionário."
      ],
      "metadata": {
        "id": "ng6tNEYtd0hE"
      }
    },
    {
      "cell_type": "code",
      "source": [
        "print(carro.get('marca'))"
      ],
      "metadata": {
        "id": "VPDbrV6Ad0Pn",
        "colab": {
          "base_uri": "https://localhost:8080/"
        },
        "outputId": "c4ed8883-1068-458c-ce51-1c3bb2cea6f3"
      },
      "execution_count": null,
      "outputs": [
        {
          "output_type": "stream",
          "name": "stdout",
          "text": [
            "Fiat\n"
          ]
        }
      ]
    },
    {
      "cell_type": "markdown",
      "source": [
        "13. Adicione uma nova chave \"cor\" com valor \"preto\" ao dicionário."
      ],
      "metadata": {
        "id": "Ov93hI7Td7c9"
      }
    },
    {
      "cell_type": "code",
      "source": [
        "carro['cor'] = 'preto'\n",
        "print(carro)"
      ],
      "metadata": {
        "id": "TrQLLfpid69U",
        "colab": {
          "base_uri": "https://localhost:8080/"
        },
        "outputId": "567f820d-4dc7-4a86-9e92-3a6217fdc2ec"
      },
      "execution_count": null,
      "outputs": [
        {
          "output_type": "stream",
          "name": "stdout",
          "text": [
            "{'marca': 'Fiat', 'modelo': 'Fastback', 'ano': 2024, 'cor': 'preto'}\n"
          ]
        }
      ]
    },
    {
      "cell_type": "markdown",
      "source": [
        "14. Verifique se a chave \"modelo\" existe no dicionário.\n"
      ],
      "metadata": {
        "id": "b_5cOma2d9LP"
      }
    },
    {
      "cell_type": "code",
      "source": [
        "if 'modelo' in carro:\n",
        "  print(\"A chave 'modelo' existe no dicionário.\")\n",
        "else:\n",
        "  print(\"A chave 'modelo' não existe no dicionário.\")"
      ],
      "metadata": {
        "id": "DUMaXPQYd8bM",
        "colab": {
          "base_uri": "https://localhost:8080/"
        },
        "outputId": "f5b9157b-2ff5-40f7-839a-653538825893"
      },
      "execution_count": null,
      "outputs": [
        {
          "output_type": "stream",
          "name": "stdout",
          "text": [
            "A chave 'modelo' existe no dicionário.\n"
          ]
        }
      ]
    },
    {
      "cell_type": "markdown",
      "source": [
        " 15. Itere sobre as chaves do dicionário e imprima cada uma delas."
      ],
      "metadata": {
        "id": "Zpqnxu2ReBZH"
      }
    },
    {
      "cell_type": "code",
      "source": [
        "for key in carro:\n",
        "  print(key)"
      ],
      "metadata": {
        "id": "4juQCK0veA-g",
        "colab": {
          "base_uri": "https://localhost:8080/"
        },
        "outputId": "1d8d7783-90ab-45ab-f4c0-a4a5f0c7afb9"
      },
      "execution_count": null,
      "outputs": [
        {
          "output_type": "stream",
          "name": "stdout",
          "text": [
            "marca\n",
            "modelo\n",
            "ano\n",
            "cor\n"
          ]
        }
      ]
    },
    {
      "cell_type": "markdown",
      "source": [
        "15. Itere sobre as chaves do dicionário e imprima cada uma delas."
      ],
      "metadata": {
        "id": "GAoDb4pneG-j"
      }
    },
    {
      "cell_type": "code",
      "source": [
        "for key in carro:\n",
        "  print(key)"
      ],
      "metadata": {
        "id": "aqi8-PtUeGx5"
      },
      "execution_count": null,
      "outputs": []
    },
    {
      "cell_type": "markdown",
      "source": [
        "17. Crie uma função que receba uma lista e retorne a soma dos elementos."
      ],
      "metadata": {
        "id": "oxI3BVhteGhH"
      }
    },
    {
      "cell_type": "code",
      "source": [
        "def soma_lista(lista):\n",
        "  soma = 0\n",
        "  for elemento in lista:\n",
        "    soma += elemento\n",
        "  return soma\n",
        "\n",
        "testeLista = [1, 2, 3, 4, 5]\n",
        "resultado = soma_lista(testeLista)\n",
        "print(f\"A soma dos elementos da lista é: {resultado}\")\n"
      ],
      "metadata": {
        "id": "Ijnkd3cJeMM_",
        "colab": {
          "base_uri": "https://localhost:8080/"
        },
        "outputId": "41e05fe5-1073-495f-9784-8998c02d8bc7"
      },
      "execution_count": null,
      "outputs": [
        {
          "output_type": "stream",
          "name": "stdout",
          "text": [
            "A soma dos elementos da lista é: 15\n"
          ]
        }
      ]
    },
    {
      "cell_type": "markdown",
      "source": [
        "18. Crie uma função que receba um dicionário e retorne todas as suas chaves.\n"
      ],
      "metadata": {
        "id": "Abqc7zdfeNl7"
      }
    },
    {
      "cell_type": "code",
      "source": [
        "def soma_elementos_lista(lista):\n",
        "\n",
        "  soma = 0\n",
        "  for elemento in lista:\n",
        "    soma += elemento\n",
        "  return soma\n",
        "\n",
        "soma_elementos_lista(testeLista)"
      ],
      "metadata": {
        "id": "ZbHQ9bipeQc3",
        "colab": {
          "base_uri": "https://localhost:8080/"
        },
        "outputId": "44c7cabd-9ea0-4383-d4be-da4f83299e59"
      },
      "execution_count": null,
      "outputs": [
        {
          "output_type": "execute_result",
          "data": {
            "text/plain": [
              "15"
            ]
          },
          "metadata": {},
          "execution_count": 39
        }
      ]
    },
    {
      "cell_type": "markdown",
      "source": [
        "\n",
        "19. Crie uma função que receba um dicionário e imprima chave e valor em linhas separadas."
      ],
      "metadata": {
        "id": "wF_R9JlDeNip"
      }
    },
    {
      "cell_type": "code",
      "source": [
        "def imprime_chave_valor(dicionario):\n",
        "  for chave, valor in dicionario.items():\n",
        "    print(f\"Chave: {chave}\")\n",
        "    print(f\"Valor: {valor}\")\n",
        "    print(\" \" * 10)\n",
        "\n",
        "\n",
        "meu_dicionario = {\"nome\": \"Maria\", \"idade\": 30, \"cidade\": \"São Paulo\"}\n",
        "imprime_chave_valor(meu_dicionario)\n"
      ],
      "metadata": {
        "id": "ONvkXUDWeVX3",
        "colab": {
          "base_uri": "https://localhost:8080/"
        },
        "outputId": "0da97535-a378-4d57-c723-99eeaf7750a7"
      },
      "execution_count": null,
      "outputs": [
        {
          "output_type": "stream",
          "name": "stdout",
          "text": [
            "Chave: nome\n",
            "Valor: Maria\n",
            "          \n",
            "Chave: idade\n",
            "Valor: 30\n",
            "          \n",
            "Chave: cidade\n",
            "Valor: São Paulo\n",
            "          \n"
          ]
        }
      ]
    },
    {
      "cell_type": "markdown",
      "source": [
        "20. Crie uma classe chamada Pessoa com atributos nome e idade, e um método que imprima esses dados."
      ],
      "metadata": {
        "id": "5ZSYRpJ-eM4s"
      }
    },
    {
      "cell_type": "code",
      "source": [
        "class Pessoa:\n",
        "  def __init__(self, nome, idade):\n",
        "    self.nome = nome\n",
        "    self.idade = idade\n",
        "\n",
        "  def imprimirDados(self):\n",
        "    print(f\"Nome: {self.nome}\")\n",
        "    print(f\"Idade: {self.idade}\")\n",
        "\n",
        "pessoa1 = Pessoa(\"João\", 30)\n",
        "pessoa1.imprimirDados()\n"
      ],
      "metadata": {
        "id": "_JzHPv5vS7Rk",
        "outputId": "627c66c8-926e-42b0-947e-4a5cfbbd107d",
        "colab": {
          "base_uri": "https://localhost:8080/"
        }
      },
      "execution_count": null,
      "outputs": [
        {
          "output_type": "stream",
          "name": "stdout",
          "text": [
            "Nome: João\n",
            "Idade: 30\n"
          ]
        }
      ]
    }
  ]
}