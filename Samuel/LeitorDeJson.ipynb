{
  "nbformat": 4,
  "nbformat_minor": 0,
  "metadata": {
    "colab": {
      "provenance": []
    },
    "kernelspec": {
      "name": "python3",
      "display_name": "Python 3"
    },
    "language_info": {
      "name": "python"
    }
  },
  "cells": [
    {
      "cell_type": "code",
      "execution_count": 1,
      "metadata": {
        "id": "qdH_NCRnjS7Z"
      },
      "outputs": [],
      "source": [
        "import json\n",
        "\n",
        "def verificador_de_json(arquivo_json):\n",
        "    palavra = input(\"Digite a palavra que deseja verificar: \")\n",
        "\n",
        "    try:\n",
        "        with open(arquivo_json, 'r', encoding='utf-8') as json_lido:\n",
        "            dados = json.load(json_lido)\n",
        "\n",
        "            for pessoa in dados:\n",
        "                if any(palavra in str(value) for value in pessoa.values()):\n",
        "                    return True\n",
        "            return False\n",
        "    except FileNotFoundError:\n",
        "        print(f\"Arquivo não encontrado: {arquivo_json}\")\n",
        "        return False\n",
        "    except json.JSONDecodeError:\n",
        "        print(\"Erro ao decodificar o arquivo JSON.\")\n",
        "        return False"
      ]
    },
    {
      "cell_type": "code",
      "source": [
        "arquivo = 'dados.json'\n",
        "\n",
        "verificador_de_json(arquivo)"
      ],
      "metadata": {
        "id": "GssVI0ODjacZ"
      },
      "execution_count": null,
      "outputs": []
    }
  ]
}