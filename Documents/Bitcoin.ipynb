{
  "nbformat": 4,
  "nbformat_minor": 0,
  "metadata": {
    "colab": {
      "provenance": []
    },
    "kernelspec": {
      "name": "python3",
      "display_name": "Python 3"
    },
    "language_info": {
      "name": "python"
    }
  },
  "cells": [
    {
      "cell_type": "markdown",
      "source": [
        "#1. Instalação da Biblioteca Pandas\n",
        "Embora o Google Colab já tenha o pandas instalado por padrão, caso precise atualizar ou instalar a biblioteca, utilize o seguinte comando:"
      ],
      "metadata": {
        "id": "6nWQNAsaJHf_"
      }
    },
    {
      "cell_type": "code",
      "source": [
        "!pip install pandas"
      ],
      "metadata": {
        "id": "tslw_KmhJSxL",
        "colab": {
          "base_uri": "https://localhost:8080/"
        },
        "outputId": "dc924cad-ba37-4982-ba48-c938894eecc5"
      },
      "execution_count": null,
      "outputs": [
        {
          "output_type": "stream",
          "name": "stdout",
          "text": [
            "Requirement already satisfied: pandas in /usr/local/lib/python3.10/dist-packages (2.2.2)\n",
            "Requirement already satisfied: numpy>=1.22.4 in /usr/local/lib/python3.10/dist-packages (from pandas) (1.26.4)\n",
            "Requirement already satisfied: python-dateutil>=2.8.2 in /usr/local/lib/python3.10/dist-packages (from pandas) (2.8.2)\n",
            "Requirement already satisfied: pytz>=2020.1 in /usr/local/lib/python3.10/dist-packages (from pandas) (2024.2)\n",
            "Requirement already satisfied: tzdata>=2022.7 in /usr/local/lib/python3.10/dist-packages (from pandas) (2024.2)\n",
            "Requirement already satisfied: six>=1.5 in /usr/local/lib/python3.10/dist-packages (from python-dateutil>=2.8.2->pandas) (1.16.0)\n"
          ]
        }
      ]
    },
    {
      "cell_type": "markdown",
      "source": [
        "#2. Importando as Bibliotecas Necessárias\n",
        "Importando as bibliotecas essenciais para análise de dados e visualização de gráficos:"
      ],
      "metadata": {
        "id": "HNN5UsUMJUtf"
      }
    },
    {
      "cell_type": "code",
      "source": [
        "import pandas as pd  # Para manipulação de dados\n",
        "import numpy as np  # Para operações numéricas\n",
        "import matplotlib.pyplot as plt  # Para gerar gráficos\n",
        "\n",
        "#Essas bibliotecas são fundamentais para trabalhar com grandes volumes de dados e gerar insights visuais."
      ],
      "metadata": {
        "id": "PTXIZHgTJYDe"
      },
      "execution_count": null,
      "outputs": []
    },
    {
      "cell_type": "markdown",
      "source": [
        "#3. Carregando o Dataset\n",
        "Fazendo upload do arquivo csv diretamente do drive"
      ],
      "metadata": {
        "id": "Wt8LMMqRJcaC"
      }
    },
    {
      "cell_type": "code",
      "source": [
        "from google.colab import files\n",
        "\n",
        "# Carregar o CSV no DataFrame do pandas\n",
        "\n",
        "df = pd.read_csv('btcusd_1-min_data.csv')\n",
        "\n",
        "#df = pd.read_csv('btcusd_1-min_data.csv')"
      ],
      "metadata": {
        "id": "YGBrAwTeJfCU",
        "outputId": "a3d38ef7-aaf5-4f8d-cefa-8c5c3b13f203",
        "colab": {
          "base_uri": "https://localhost:8080/",
          "height": 721
        }
      },
      "execution_count": null,
      "outputs": [
        {
          "output_type": "error",
          "ename": "FileNotFoundError",
          "evalue": "[Errno 2] No such file or directory: 'btcusd_1-min_data.csv'",
          "traceback": [
            "\u001b[0;31m---------------------------------------------------------------------------\u001b[0m",
            "\u001b[0;31mFileNotFoundError\u001b[0m                         Traceback (most recent call last)",
            "\u001b[0;32m<ipython-input-2-d1c55cce44de>\u001b[0m in \u001b[0;36m<cell line: 5>\u001b[0;34m()\u001b[0m\n\u001b[1;32m      3\u001b[0m \u001b[0;31m# Carregar o CSV no DataFrame do pandas\u001b[0m\u001b[0;34m\u001b[0m\u001b[0;34m\u001b[0m\u001b[0m\n\u001b[1;32m      4\u001b[0m \u001b[0;34m\u001b[0m\u001b[0m\n\u001b[0;32m----> 5\u001b[0;31m \u001b[0mdf\u001b[0m \u001b[0;34m=\u001b[0m \u001b[0mpd\u001b[0m\u001b[0;34m.\u001b[0m\u001b[0mread_csv\u001b[0m\u001b[0;34m(\u001b[0m\u001b[0;34m'btcusd_1-min_data.csv'\u001b[0m\u001b[0;34m)\u001b[0m\u001b[0;34m\u001b[0m\u001b[0;34m\u001b[0m\u001b[0m\n\u001b[0m\u001b[1;32m      6\u001b[0m \u001b[0;34m\u001b[0m\u001b[0m\n\u001b[1;32m      7\u001b[0m \u001b[0;31m#df = pd.read_csv('btcusd_1-min_data.csv')\u001b[0m\u001b[0;34m\u001b[0m\u001b[0;34m\u001b[0m\u001b[0m\n",
            "\u001b[0;32m/usr/local/lib/python3.10/dist-packages/pandas/io/parsers/readers.py\u001b[0m in \u001b[0;36mread_csv\u001b[0;34m(filepath_or_buffer, sep, delimiter, header, names, index_col, usecols, dtype, engine, converters, true_values, false_values, skipinitialspace, skiprows, skipfooter, nrows, na_values, keep_default_na, na_filter, verbose, skip_blank_lines, parse_dates, infer_datetime_format, keep_date_col, date_parser, date_format, dayfirst, cache_dates, iterator, chunksize, compression, thousands, decimal, lineterminator, quotechar, quoting, doublequote, escapechar, comment, encoding, encoding_errors, dialect, on_bad_lines, delim_whitespace, low_memory, memory_map, float_precision, storage_options, dtype_backend)\u001b[0m\n\u001b[1;32m   1024\u001b[0m     \u001b[0mkwds\u001b[0m\u001b[0;34m.\u001b[0m\u001b[0mupdate\u001b[0m\u001b[0;34m(\u001b[0m\u001b[0mkwds_defaults\u001b[0m\u001b[0;34m)\u001b[0m\u001b[0;34m\u001b[0m\u001b[0;34m\u001b[0m\u001b[0m\n\u001b[1;32m   1025\u001b[0m \u001b[0;34m\u001b[0m\u001b[0m\n\u001b[0;32m-> 1026\u001b[0;31m     \u001b[0;32mreturn\u001b[0m \u001b[0m_read\u001b[0m\u001b[0;34m(\u001b[0m\u001b[0mfilepath_or_buffer\u001b[0m\u001b[0;34m,\u001b[0m \u001b[0mkwds\u001b[0m\u001b[0;34m)\u001b[0m\u001b[0;34m\u001b[0m\u001b[0;34m\u001b[0m\u001b[0m\n\u001b[0m\u001b[1;32m   1027\u001b[0m \u001b[0;34m\u001b[0m\u001b[0m\n\u001b[1;32m   1028\u001b[0m \u001b[0;34m\u001b[0m\u001b[0m\n",
            "\u001b[0;32m/usr/local/lib/python3.10/dist-packages/pandas/io/parsers/readers.py\u001b[0m in \u001b[0;36m_read\u001b[0;34m(filepath_or_buffer, kwds)\u001b[0m\n\u001b[1;32m    618\u001b[0m \u001b[0;34m\u001b[0m\u001b[0m\n\u001b[1;32m    619\u001b[0m     \u001b[0;31m# Create the parser.\u001b[0m\u001b[0;34m\u001b[0m\u001b[0;34m\u001b[0m\u001b[0m\n\u001b[0;32m--> 620\u001b[0;31m     \u001b[0mparser\u001b[0m \u001b[0;34m=\u001b[0m \u001b[0mTextFileReader\u001b[0m\u001b[0;34m(\u001b[0m\u001b[0mfilepath_or_buffer\u001b[0m\u001b[0;34m,\u001b[0m \u001b[0;34m**\u001b[0m\u001b[0mkwds\u001b[0m\u001b[0;34m)\u001b[0m\u001b[0;34m\u001b[0m\u001b[0;34m\u001b[0m\u001b[0m\n\u001b[0m\u001b[1;32m    621\u001b[0m \u001b[0;34m\u001b[0m\u001b[0m\n\u001b[1;32m    622\u001b[0m     \u001b[0;32mif\u001b[0m \u001b[0mchunksize\u001b[0m \u001b[0;32mor\u001b[0m \u001b[0miterator\u001b[0m\u001b[0;34m:\u001b[0m\u001b[0;34m\u001b[0m\u001b[0;34m\u001b[0m\u001b[0m\n",
            "\u001b[0;32m/usr/local/lib/python3.10/dist-packages/pandas/io/parsers/readers.py\u001b[0m in \u001b[0;36m__init__\u001b[0;34m(self, f, engine, **kwds)\u001b[0m\n\u001b[1;32m   1618\u001b[0m \u001b[0;34m\u001b[0m\u001b[0m\n\u001b[1;32m   1619\u001b[0m         \u001b[0mself\u001b[0m\u001b[0;34m.\u001b[0m\u001b[0mhandles\u001b[0m\u001b[0;34m:\u001b[0m \u001b[0mIOHandles\u001b[0m \u001b[0;34m|\u001b[0m \u001b[0;32mNone\u001b[0m \u001b[0;34m=\u001b[0m \u001b[0;32mNone\u001b[0m\u001b[0;34m\u001b[0m\u001b[0;34m\u001b[0m\u001b[0m\n\u001b[0;32m-> 1620\u001b[0;31m         \u001b[0mself\u001b[0m\u001b[0;34m.\u001b[0m\u001b[0m_engine\u001b[0m \u001b[0;34m=\u001b[0m \u001b[0mself\u001b[0m\u001b[0;34m.\u001b[0m\u001b[0m_make_engine\u001b[0m\u001b[0;34m(\u001b[0m\u001b[0mf\u001b[0m\u001b[0;34m,\u001b[0m \u001b[0mself\u001b[0m\u001b[0;34m.\u001b[0m\u001b[0mengine\u001b[0m\u001b[0;34m)\u001b[0m\u001b[0;34m\u001b[0m\u001b[0;34m\u001b[0m\u001b[0m\n\u001b[0m\u001b[1;32m   1621\u001b[0m \u001b[0;34m\u001b[0m\u001b[0m\n\u001b[1;32m   1622\u001b[0m     \u001b[0;32mdef\u001b[0m \u001b[0mclose\u001b[0m\u001b[0;34m(\u001b[0m\u001b[0mself\u001b[0m\u001b[0;34m)\u001b[0m \u001b[0;34m->\u001b[0m \u001b[0;32mNone\u001b[0m\u001b[0;34m:\u001b[0m\u001b[0;34m\u001b[0m\u001b[0;34m\u001b[0m\u001b[0m\n",
            "\u001b[0;32m/usr/local/lib/python3.10/dist-packages/pandas/io/parsers/readers.py\u001b[0m in \u001b[0;36m_make_engine\u001b[0;34m(self, f, engine)\u001b[0m\n\u001b[1;32m   1878\u001b[0m                 \u001b[0;32mif\u001b[0m \u001b[0;34m\"b\"\u001b[0m \u001b[0;32mnot\u001b[0m \u001b[0;32min\u001b[0m \u001b[0mmode\u001b[0m\u001b[0;34m:\u001b[0m\u001b[0;34m\u001b[0m\u001b[0;34m\u001b[0m\u001b[0m\n\u001b[1;32m   1879\u001b[0m                     \u001b[0mmode\u001b[0m \u001b[0;34m+=\u001b[0m \u001b[0;34m\"b\"\u001b[0m\u001b[0;34m\u001b[0m\u001b[0;34m\u001b[0m\u001b[0m\n\u001b[0;32m-> 1880\u001b[0;31m             self.handles = get_handle(\n\u001b[0m\u001b[1;32m   1881\u001b[0m                 \u001b[0mf\u001b[0m\u001b[0;34m,\u001b[0m\u001b[0;34m\u001b[0m\u001b[0;34m\u001b[0m\u001b[0m\n\u001b[1;32m   1882\u001b[0m                 \u001b[0mmode\u001b[0m\u001b[0;34m,\u001b[0m\u001b[0;34m\u001b[0m\u001b[0;34m\u001b[0m\u001b[0m\n",
            "\u001b[0;32m/usr/local/lib/python3.10/dist-packages/pandas/io/common.py\u001b[0m in \u001b[0;36mget_handle\u001b[0;34m(path_or_buf, mode, encoding, compression, memory_map, is_text, errors, storage_options)\u001b[0m\n\u001b[1;32m    871\u001b[0m         \u001b[0;32mif\u001b[0m \u001b[0mioargs\u001b[0m\u001b[0;34m.\u001b[0m\u001b[0mencoding\u001b[0m \u001b[0;32mand\u001b[0m \u001b[0;34m\"b\"\u001b[0m \u001b[0;32mnot\u001b[0m \u001b[0;32min\u001b[0m \u001b[0mioargs\u001b[0m\u001b[0;34m.\u001b[0m\u001b[0mmode\u001b[0m\u001b[0;34m:\u001b[0m\u001b[0;34m\u001b[0m\u001b[0;34m\u001b[0m\u001b[0m\n\u001b[1;32m    872\u001b[0m             \u001b[0;31m# Encoding\u001b[0m\u001b[0;34m\u001b[0m\u001b[0;34m\u001b[0m\u001b[0m\n\u001b[0;32m--> 873\u001b[0;31m             handle = open(\n\u001b[0m\u001b[1;32m    874\u001b[0m                 \u001b[0mhandle\u001b[0m\u001b[0;34m,\u001b[0m\u001b[0;34m\u001b[0m\u001b[0;34m\u001b[0m\u001b[0m\n\u001b[1;32m    875\u001b[0m                 \u001b[0mioargs\u001b[0m\u001b[0;34m.\u001b[0m\u001b[0mmode\u001b[0m\u001b[0;34m,\u001b[0m\u001b[0;34m\u001b[0m\u001b[0;34m\u001b[0m\u001b[0m\n",
            "\u001b[0;31mFileNotFoundError\u001b[0m: [Errno 2] No such file or directory: 'btcusd_1-min_data.csv'"
          ]
        }
      ]
    },
    {
      "cell_type": "markdown",
      "source": [
        "#4. Visualizando as Primeiras Linhas do Dataset\n",
        "Para verificar se o dataset foi carregado corretamente, pode ser impresso as primeiras linhas com o método head():"
      ],
      "metadata": {
        "id": "O_O8qnPRJiSN"
      }
    },
    {
      "cell_type": "code",
      "source": [
        "# Ver as primeiras linhas do dataset para confirmar que foi carregado corretamente\n",
        "print(df.head())"
      ],
      "metadata": {
        "id": "7WdXTKVlJnpP",
        "colab": {
          "base_uri": "https://localhost:8080/"
        },
        "outputId": "e4d63fb2-c359-4ad7-f58d-690cbaf8445f"
      },
      "execution_count": null,
      "outputs": [
        {
          "output_type": "stream",
          "name": "stdout",
          "text": [
            "      Timestamp  Open  High   Low  Close  Volume\n",
            "0  1.325412e+09  4.58  4.58  4.58   4.58     0.0\n",
            "1  1.325412e+09  4.58  4.58  4.58   4.58     0.0\n",
            "2  1.325412e+09  4.58  4.58  4.58   4.58     0.0\n",
            "3  1.325412e+09  4.58  4.58  4.58   4.58     0.0\n",
            "4  1.325412e+09  4.58  4.58  4.58   4.58     0.0\n"
          ]
        }
      ]
    },
    {
      "cell_type": "markdown",
      "source": [
        "#5. Convertendo o Timestamp para Formato de Data\n",
        "Como o dataset contém uma coluna de tempo em formato Unix (Timestamp), precisamos convertê-la para um formato de data legível:"
      ],
      "metadata": {
        "id": "J4I5DltJJpqJ"
      }
    },
    {
      "cell_type": "code",
      "source": [
        "# Converter a coluna Timestamp para formato datetime\n",
        "df['Timestamp'] = pd.to_datetime(df['Timestamp'], unit='s')\n",
        "\n",
        "# Opcional: Definir o Timestamp como índice para facilitar a análise temporal\n",
        "df.set_index('Timestamp', inplace=True)"
      ],
      "metadata": {
        "id": "CJ9qbHcuJt5q"
      },
      "execution_count": null,
      "outputs": []
    },
    {
      "cell_type": "markdown",
      "source": [
        "#6. Medidas de Tendência Central\n",
        "Aqui calculamos as medidas de tendência central para o preço de abertura, alta, baixa e fechamento:"
      ],
      "metadata": {
        "id": "6LB4VAkTJv1E"
      }
    },
    {
      "cell_type": "code",
      "source": [
        "#Média:\n",
        "\n",
        "# Cálculo da Média\n",
        "media_open = df['Open'].mean()\n",
        "media_high = df['High'].mean()\n",
        "media_low = df['Low'].mean()\n",
        "media_close = df['Close'].mean()\n",
        "\n",
        "# Exibir Média com unidades em USD\n",
        "print(f\"Média Open: {media_open} USD\")\n",
        "print(f\"Média High: {media_high} USD\")\n",
        "print(f\"Média Low: {media_low} USD\")\n",
        "print(f\"Média Close: {media_close} USD\")"
      ],
      "metadata": {
        "colab": {
          "base_uri": "https://localhost:8080/"
        },
        "id": "dW0ShXULJ0ao",
        "outputId": "8ae17fbf-b56a-48cb-8067-cea4ab1d2d35"
      },
      "execution_count": null,
      "outputs": [
        {
          "output_type": "stream",
          "name": "stdout",
          "text": [
            "Média Open: 240.8118860693601 USD\n",
            "Média High: 240.98791184999234 USD\n",
            "Média Low: 240.62327100251701 USD\n",
            "Média Close: 240.81005560888372 USD\n"
          ]
        }
      ]
    },
    {
      "cell_type": "code",
      "source": [
        "#Mediana:\n",
        "\n",
        "mediana_open = df['Open'].median()\n",
        "mediana_high = df['High'].median()\n",
        "mediana_low = df['Low'].median()\n",
        "mediana_close = df['Close'].median()\n",
        "\n",
        "# Exibir Mediana com unidades em USD\n",
        "print(f\"Mediana Open: {mediana_open} USD\")\n",
        "print(f\"Mediana High: {mediana_high} USD\")\n",
        "print(f\"Mediana Low: {mediana_low} USD\")\n",
        "print(f\"Mediana Close: {mediana_close} USD\")"
      ],
      "metadata": {
        "colab": {
          "base_uri": "https://localhost:8080/"
        },
        "id": "9Gu9GWPLJ8WY",
        "outputId": "a9b35e7c-dec8-4f58-9af4-76e2c666afd5"
      },
      "execution_count": null,
      "outputs": [
        {
          "output_type": "stream",
          "name": "stdout",
          "text": [
            "Mediana Open: 127.95 USD\n",
            "Mediana High: 127.97 USD\n",
            "Mediana Low: 127.9 USD\n",
            "Mediana Close: 127.93 USD\n"
          ]
        }
      ]
    },
    {
      "cell_type": "markdown",
      "source": [
        "#7. Medidas de Dispersão\n",
        "Para medir a variabilidade dos dados, calculamos o desvio padrão e a amplitude:"
      ],
      "metadata": {
        "id": "HrU-TaeVKLLu"
      }
    },
    {
      "cell_type": "code",
      "source": [
        "#Desvio Padrão:\n",
        "\n",
        "desvio_padrao_open = df['Open'].std()\n",
        "desvio_padrao_high = df['High'].std()\n",
        "desvio_padrao_low = df['Low'].std()\n",
        "desvio_padrao_close = df['Close'].std()\n",
        "\n",
        "print(f\"Desvio Padrão Open: {desvio_padrao_open} USD\")\n",
        "print(f\"Desvio Padrão High: {desvio_padrao_high} USD\")\n",
        "print(f\"Desvio Padrão Low: {desvio_padrao_low} USD\")\n",
        "print(f\"Desvio Padrão Close: {desvio_padrao_close} USD\")\n"
      ],
      "metadata": {
        "id": "9gLlF0ONKMxG",
        "colab": {
          "base_uri": "https://localhost:8080/"
        },
        "outputId": "9c8fbe41-57bd-4a2f-d487-52adb69fd03f"
      },
      "execution_count": null,
      "outputs": [
        {
          "output_type": "stream",
          "name": "stdout",
          "text": [
            "Desvio Padrão Open: 252.1974539584608 USD\n",
            "Desvio Padrão High: 252.43214795382622 USD\n",
            "Desvio Padrão Low: 251.94829143903962 USD\n",
            "Desvio Padrão Close: 252.19839118427114 USD\n"
          ]
        }
      ]
    },
    {
      "cell_type": "code",
      "source": [
        "#Amplitude (diferença entre o máximo e o mínimo):\n",
        "\n",
        "amplitude_open = df['Open'].max() - df['Open'].min()\n",
        "amplitude_high = df['High'].max() - df['High'].min()\n",
        "amplitude_low = df['Low'].max() - df['Low'].min()\n",
        "amplitude_close = df['Close'].max() - df['Close'].min()\n",
        "\n",
        "print(f\"Amplitude Open: {amplitude_open} USD\")\n",
        "print(f\"Amplitude High: {amplitude_high} USD\")\n",
        "print(f\"Amplitude Low: {amplitude_low} USD\")\n",
        "print(f\"Amplitude Close: {amplitude_close} USD\")"
      ],
      "metadata": {
        "id": "wwQa7ki6KQ-_",
        "colab": {
          "base_uri": "https://localhost:8080/"
        },
        "outputId": "3de63ffd-41e1-4f19-e632-8d86e99a3a42"
      },
      "execution_count": null,
      "outputs": [
        {
          "output_type": "stream",
          "name": "stdout",
          "text": [
            "Amplitude Open: 1159.2 USD\n",
            "Amplitude High: 1159.2 USD\n",
            "Amplitude Low: 1159.19 USD\n",
            "Amplitude Close: 1159.2 USD\n"
          ]
        }
      ]
    },
    {
      "cell_type": "markdown",
      "source": [
        "#8. Volume Transacionado\n",
        "Aqui analisamos o volume transacionado de Bitcoin (1minuto):"
      ],
      "metadata": {
        "id": "9mD8EDHCKdOw"
      }
    },
    {
      "cell_type": "code",
      "source": [
        "#Média do volume transacionado:\n",
        "\n",
        "media_volume = df['Volume'].mean()\n",
        "print(f\"Média do Volume Transacionado: {media_volume}\")\n"
      ],
      "metadata": {
        "id": "x0fQVTjCKe6c",
        "colab": {
          "base_uri": "https://localhost:8080/"
        },
        "outputId": "0600a7c0-1aec-4e23-e536-e86b2860e49b"
      },
      "execution_count": null,
      "outputs": [
        {
          "output_type": "stream",
          "name": "stdout",
          "text": [
            "Média do Volume Transacionado: 6.967083409216251\n"
          ]
        }
      ]
    },
    {
      "cell_type": "code",
      "source": [
        "#Correlação entre Volume e Preço de Fechamento:\n",
        "\n",
        "correlacao_volume_preco = df['Volume'].corr(df['Close'])\n",
        "print(f\"Correlação entre Volume e Preço de Fechamento: {correlacao_volume_preco}\")\n"
      ],
      "metadata": {
        "id": "CpY-ESnrKpiJ",
        "colab": {
          "base_uri": "https://localhost:8080/"
        },
        "outputId": "ca0c6766-7301-479a-d4f0-c57c446fb9e2"
      },
      "execution_count": null,
      "outputs": [
        {
          "output_type": "stream",
          "name": "stdout",
          "text": [
            "Correlação entre Volume e Preço de Fechamento: 0.10248426785597177\n"
          ]
        }
      ]
    },
    {
      "cell_type": "markdown",
      "source": [
        "Essa correlação nos ajuda a entender se há uma relação direta entre o volume transacionado e o preço de fechamento.\n",
        "\n"
      ],
      "metadata": {
        "id": "ArqbTNIlKxk-"
      }
    },
    {
      "cell_type": "markdown",
      "source": [
        "#9. Visualizando a Variação de Preço ao Longo do Tempo\n",
        "Podemos visualizar a variação do preço de fechamento ao longo do tempo com um gráfico simples:"
      ],
      "metadata": {
        "id": "-skP7VRsKzNJ"
      }
    },
    {
      "cell_type": "code",
      "source": [
        "# Plotar a variação do preço de fechamento ao longo do tempo\n",
        "plt.figure(figsize=(10,6))\n",
        "plt.plot(df.index, df['Close'], label='Preço de Fechamento')\n",
        "plt.title('Variação do Preço de Fechamento ao Longo do Tempo')\n",
        "plt.xlabel('Data')\n",
        "plt.ylabel('Preço de Fechamento (USD)')\n",
        "plt.legend()\n",
        "plt.show()\n"
      ],
      "metadata": {
        "id": "VapgWjaqK3Pa",
        "colab": {
          "base_uri": "https://localhost:8080/",
          "height": 564
        },
        "outputId": "56cdaf2f-87e0-40b4-e8de-ceb2a368a097"
      },
      "execution_count": null,
      "outputs": [
        {
          "output_type": "display_data",
          "data": {
            "text/plain": [
              "<Figure size 1000x600 with 1 Axes>"
            ],
            "image/png": "[encoded data removed]"
          },
          "metadata": {}
        }
      ]
    },
    {
      "cell_type": "markdown",
      "source": [
        "#10. Resumo Estatístico\n",
        "Resumo estatístico completo das colunas numéricas:"
      ],
      "metadata": {
        "id": "GZLpoY_2K8Fu"
      }
    },
    {
      "cell_type": "code",
      "source": [
        "# resumo = df.describe()\n",
        "# print(resumo)\n",
        "\n",
        "# Gerar o resumo estatístico original\n",
        "resumo = df.describe()\n",
        "\n",
        "# Adicionar as unidades de medida\n",
        "resumo_formatado = resumo.copy()\n",
        "\n",
        "# Adicionar \"USD\" para as colunas de preços (Open, High, Low, Close) e \"BTC\" para o Volume\n",
        "for coluna in ['Open', 'High', 'Low', 'Close']:\n",
        "    resumo_formatado[coluna] = resumo_formatado[coluna].apply(lambda x: f'{x} USD')\n",
        "\n",
        "# Adicionar \"BTC\" para a coluna de Volume\n",
        "resumo_formatado['Volume'] = resumo_formatado['Volume'].apply(lambda x: f'{x} BTC')\n",
        "\n",
        "# Exibir o DataFrame formatado com unidades\n",
        "print(\"\\nResumo Estatístico com Unidades de Medida:\")\n",
        "print(resumo_formatado)"
      ],
      "metadata": {
        "id": "eoBL1OTMK9c0",
        "outputId": "601c922b-1a2c-446a-8515-cf67d70d2733",
        "colab": {
          "base_uri": "https://localhost:8080/"
        }
      },
      "execution_count": null,
      "outputs": [
        {
          "output_type": "stream",
          "name": "stdout",
          "text": [
            "\n",
            "Resumo Estatístico com Unidades de Medida:\n",
            "                        Open                    High                     Low  \\\n",
            "count          1798094.0 USD           1798094.0 USD           1798094.0 USD   \n",
            "mean   240.8118860693601 USD  240.98791184999234 USD  240.62327100251701 USD   \n",
            "std    252.1974539584608 USD  252.43214795382622 USD  251.94829143903962 USD   \n",
            "min                  3.8 USD                 3.8 USD                 3.8 USD   \n",
            "25%                12.11 USD               12.11 USD               12.11 USD   \n",
            "50%               127.95 USD              127.97 USD               127.9 USD   \n",
            "75%                409.3 USD              409.67 USD              408.99 USD   \n",
            "max               1163.0 USD              1163.0 USD             1162.99 USD   \n",
            "\n",
            "                        Close                 Volume  \n",
            "count           1798094.0 USD          1798094.0 BTC  \n",
            "mean   240.81005560888372 USD  6.967083409216251 BTC  \n",
            "std    252.19839118427114 USD  34.69452043248926 BTC  \n",
            "min                   3.8 USD                0.0 BTC  \n",
            "25%                 12.11 USD                0.0 BTC  \n",
            "50%                127.93 USD        0.000562575 BTC  \n",
            "75%                409.29 USD        2.284353625 BTC  \n",
            "max                1163.0 USD      5853.85216588 BTC  \n"
          ]
        }
      ]
    },
    {
      "cell_type": "markdown",
      "source": [
        "Esse resumo oferece uma visão geral das estatísticas principais (contagem, média, desvio padrão, mínimo, máximo, etc.)."
      ],
      "metadata": {
        "id": "_yAdIQRmLBT8"
      }
    },
    {
      "cell_type": "markdown",
      "source": [
        "#11. Conclusão\n",
        "Esses cálculos fornecem uma visão abrangente do comportamento do Bitcoin. No mundo real, essas informações podem ser usadas para:\n",
        "\n",
        "*   Identificar oportunidades de compra ou venda.\n",
        "*   Avaliar o risco associado ao investimento em Bitcoin.\n",
        "*   Compreender a relação entre volume e preço, ajudando a prever movimentos de mercado.\n",
        "*   Realizar análises de volatilidade e risco para estratégias de curto e longo prazo.\n",
        "\n",
        "\n",
        "Investidores e traders podem tomar decisões mais informadas com base nesses insights, seja para maximizar lucros em períodos de alta volatilidade ou para se proteger contra quedas bruscas no preço.\n",
        "\n",
        "\n",
        "\n"
      ],
      "metadata": {
        "id": "HTYdFZQpiu0E"
      }
    }
  ]
}